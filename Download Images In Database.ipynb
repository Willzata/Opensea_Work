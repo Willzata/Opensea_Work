{
 "cells": [
  {
   "cell_type": "code",
   "execution_count": 76,
   "id": "4f914a24",
   "metadata": {},
   "outputs": [],
   "source": [
    "import sqlite3\n",
    "import requests\n",
    "import io \n",
    "from PIL import Image\n",
    "import pathlib  \n",
    "import hashlib\n",
    "\n",
    "db_path = '/mnt/c/Users/wmang/Python Stuff/Opensea/Database/PC_Assets.db'\n",
    "# This function will insert the data into the SQlite database.\n",
    "def UpdateDB(processed_data): \n",
    "  #Connecting to sqlite\n",
    "  conn = sqlite3.connect(db_path)\n",
    "\n",
    "  #Creating a cursor object using the cursor() method\n",
    "  curr = conn.cursor()\n",
    "\n",
    "  a = processed_data['ids']\n",
    "  b = processed_data['token_ids']\n",
    "  c = processed_data['img_urls']\n",
    "  d = processed_data['permalink_urls']\n",
    "  e = processed_data['asset_contract_types']\n",
    "  f = processed_data['art_name']\n",
    "  g = processed_data['artist_name']\n",
    "  h = processed_data['twitter']\n",
    "  i = processed_data['filepath']\n",
    "\n",
    "\n",
    "  SQL = \"INSERT OR IGNORE INTO Assets_full (id,token_id,image_URL,auction_URL,asset_contract_type,art_name,artist_name,twitter,file_path) VALUES (?,?,?,?,?,?,?,?,?)\"\n",
    "  for z in range(len(a)):\n",
    "    curr.execute(SQL, (a[z],b[z],c[z],d[z],e[z],f[z],g[z],h[z],i[z]))\n",
    "\n",
    "  # Commit your changes in the database\n",
    "  conn.commit()\n",
    "  print(\"Records inserted........\")\n",
    "  \n",
    "  # Closing the connection\n",
    "  conn.close()\n",
    "\n",
    "def DownloadImage(url):\n",
    "  directory = '/mnt/c/Users/wmang/Python Stuff/Opensea/Images_New/Images'\n",
    "\n",
    "   #Add content of link to a variable\n",
    "  image_content = requests.get(url).content\n",
    "\n",
    "    #creates a byte object out of image_content and point the variable image_file to it\n",
    "  image_file = io.BytesIO(image_content)\n",
    "    \n",
    "    #use pillow to convert object to RGB img \n",
    "  image = Image.open(image_file).convert('RGB')\n",
    "  \n",
    "  #resize to 128,128 so embeddings can be taken\n",
    "  image = image.resize((400,400), Image.ANTIALIAS)\n",
    "\n",
    "  #create hash that can be used to refer back to image later(in DB)\n",
    "  hash = hashlib.sha1(image_content).hexdigest()[:10]\n",
    "\n",
    "  img_path = pathlib.Path(directory,hash + '.jpeg')\n",
    "\n",
    "  #Image must be a jpeg...\n",
    "  image.save(img_path,\"JPEG\",quality=80)\n",
    "\n",
    "  #Convert from Path object to Str \n",
    "  img_path = str(img_path)\n",
    "\n",
    "  return hash\n",
    "\n",
    "# This function will insert the data into the SQlite database.\n",
    "def UpdateDB(processed_data): \n",
    "  #Connecting to sqlite\n",
    "  conn = sqlite3.connect(db_path)\n",
    "\n",
    "  #Creating a cursor object using the cursor() method\n",
    "  curr = conn.cursor()\n",
    "\n",
    "  a = processed_data['ids']\n",
    "  b = processed_data['token_ids']\n",
    "  c = processed_data['img_urls']\n",
    "  d = processed_data['permalink_urls']\n",
    "  e = processed_data['asset_contract_types']\n",
    "  f = processed_data['art_name']\n",
    "  g = processed_data['artist_name']\n",
    "  h = processed_data['twitter']\n",
    "  i = processed_data['filepath']\n",
    "\n",
    "\n",
    "  SQL = \"INSERT OR IGNORE INTO Assets_full (id,token_id,image_URL,auction_URL,asset_contract_type,art_name,artist_name,twitter,filepath) VALUES (?,?,?,?,?,?,?,?,?)\"\n",
    "  for z in range(len(a)):\n",
    "    curr.execute(SQL, (a[z],b[z],c[z],d[z],e[z],f[z],g[z],h[z],i[z]))\n",
    "\n",
    "  # Commit your changes in the database\n",
    "  conn.commit()\n",
    "  print(\"Records inserted........\")\n",
    "  \n",
    "  # Closing the connection\n",
    "  conn.close()\n",
    "\n",
    "\n",
    "\n",
    "def RetrieveIDfromDB(id): \n",
    "  conn = sqlite3.connect(db_path)\n",
    "  cursor = conn.cursor()\n",
    "  cursor.execute(f'SELECT DISTINCT * FROM Assets WHERE token_id = {id}')\n",
    "  results = cursor.fetchall()\n",
    "  cursor.close()\n",
    "  return results\n",
    "\n",
    "\n",
    "def Script(id): \n",
    "  dataset = RetrieveIDfromDB(id)\n",
    "\n",
    "  ##Data structure --> [0] = id(unique), [1] = token_id [2] = img_url \n",
    "  ##[3]= permalink [4] = asset type [5]= Art name [6]= Artist Name [7] = Twitter\n",
    "  ##[8] = Filepath \n",
    "\n",
    "  img_urls= [] #Link to the image of the artwork being sold\n",
    "  permalink_urls = [] #Link to the auction on opensea\n",
    "  ids = [] #Unique identifier \n",
    "  token_ids = [] #Some other identifier (????)\n",
    "  asset_contract_types = [] #Fungible / semi-fungible / non-fungible \n",
    "  art_name = []  #Artwork Name \n",
    "  artist_name = [] #Artist Name\n",
    "  twitter = [] #Twitter Handle \n",
    "  filepath = [] #Filepath\n",
    "\n",
    "\n",
    "  for data in dataset:\n",
    "    #Use img_url to download image\n",
    "\n",
    "    #PIL cannot support various formats so try\n",
    "    try:\n",
    "    #if \"gif\" not in data[2] and \"gif\" not in data[2] and \"svg\" not in data[2] and \"json\" not in data[2] and \"webm\" not in data[2]: \n",
    "      img_path = DownloadImage(data[2])\n",
    "\n",
    "      #Append data to temp lists\n",
    "      ids.append(data[0])\n",
    "      token_ids.append(data[1])\n",
    "      img_urls.append(data[2])\n",
    "      permalink_urls.append(data[3])\n",
    "      asset_contract_types.append(data[4])\n",
    "      art_name.append(data[5])\n",
    "      artist_name.append(data[6])\n",
    "      twitter.append(data[7])\n",
    "      filepath.append(img_path)\n",
    "    except:\n",
    "      continue\n",
    "\n",
    "\n",
    "  #Convert this data to dict\n",
    "  outdict = {'img_urls':img_urls,\n",
    "             'permalink_urls':permalink_urls,\n",
    "             'ids':ids,\n",
    "             'token_ids':token_ids,\n",
    "             'asset_contract_types':asset_contract_types,\n",
    "             'art_name':art_name,\n",
    "             'artist_name':artist_name,\n",
    "             'twitter':twitter,\n",
    "             'filepath':filepath\n",
    "              }\n",
    "\n",
    "  #Commit this data into a new table in database.\n",
    "  UpdateDB(outdict)\n",
    "\n",
    "  #Add one to counter and update counter document so next id can be read\n",
    "  dir = f'/mnt/c/Users/wmang/Python Stuff/Opensea/Database/DB_count.txt'\n",
    "  next_id = id + 1\n",
    "  UpdateCount(next_id,dir)\n",
    "  return \n",
    "\n",
    "dir = f'/mnt/c/Users/wmang/Python Stuff/Opensea/Database/DB_count.txt'\n",
    "def ReadCount(dir):\n",
    "  with open(dir) as f:\n",
    "      c = [int(x) for x in next(f).split()] # read first line\n",
    "      c = c[0]\n",
    "      f.close()\n",
    "  return c\n",
    "\n",
    "def UpdateCount(next_id,dir):\n",
    "  with open(dir, 'r+') as f:\n",
    "    f.truncate(0)\n",
    "    f.write(str(next_id))\n",
    "    f.close\n"
   ]
  },
  {
   "cell_type": "code",
   "execution_count": 80,
   "id": "904f0282",
   "metadata": {},
   "outputs": [
    {
     "name": "stdout",
     "output_type": "stream",
     "text": [
      "Downloading URLS from token_id: 8033\n",
      "Downloading URLS from token_id: 8033\n",
      "Downloading URLS from token_id: 8033\n"
     ]
    }
   ],
   "source": [
    "def Main():\n",
    "    \n",
    "    ccc = 0\n",
    "    working = True\n",
    "    while working is True:\n",
    "        id = ReadCount(dir)\n",
    "        print(f\"Downloading URLS from token_id: {id}\")\n",
    "        try:\n",
    "            Script(id)\n",
    "            ccc = 0\n",
    "        except:\n",
    "            ccc = ccc + 1\n",
    "            if ccc == 3:\n",
    "                working = False\n",
    "\n",
    "if __name__ == '__main__':\n",
    "    \n",
    "  Main()\n",
    "  "
   ]
  },
  {
   "cell_type": "code",
   "execution_count": 30,
   "id": "a0d4dd97",
   "metadata": {},
   "outputs": [
    {
     "name": "stdout",
     "output_type": "stream",
     "text": [
      "422638 372858\n"
     ]
    }
   ],
   "source": [
    "import sqlite3\n",
    "\n",
    "conn = sqlite3.connect('/mnt/c/Users/wmang/Python Stuff/Opensea/Database/PC_Assets.db')\n",
    "cursor = conn.cursor()\n",
    "cursor.execute(\"select Distinct * from Assets\")\n",
    "results = cursor.fetchall()\n",
    "cursor.execute(\"select Distinct  * from Assets_full\")\n",
    "results1 = cursor.fetchall()\n",
    "print(len(results),len(results1))\n",
    "cursor.close()"
   ]
  },
  {
   "cell_type": "code",
   "execution_count": 44,
   "id": "83bf8c23",
   "metadata": {},
   "outputs": [
    {
     "name": "stdout",
     "output_type": "stream",
     "text": [
      "216953\n"
     ]
    }
   ],
   "source": [
    "##Check that images in Images_new are in Assets_full\n",
    "##Return all hash names in Assets_full, assign this to a list.\n",
    "##Iterate over this list and move all images with the name into a new folder \n",
    "\n",
    "conn = sqlite3.connect('/mnt/c/Users/wmang/Python Stuff/Opensea/Database/PC_Assets.db')\n",
    "cursor = conn.cursor()\n",
    "cursor.execute(\"select distinct filepath from Assets_full\")\n",
    "results = cursor.fetchall()\n",
    "print(len(results))"
   ]
  },
  {
   "cell_type": "code",
   "execution_count": 75,
   "id": "4dbffee5",
   "metadata": {},
   "outputs": [
    {
     "data": {
      "text/plain": [
       "216952"
      ]
     },
     "execution_count": 75,
     "metadata": {},
     "output_type": "execute_result"
    }
   ],
   "source": [
    "import os\n",
    "\n",
    "path, dirs, files = next(os.walk('/mnt/c/Users/wmang/Python Stuff/Opensea/Images_New/Images_New'))\n",
    "file_count = len(files)\n",
    "file_count"
   ]
  },
  {
   "cell_type": "code",
   "execution_count": 71,
   "id": "c49a40a3",
   "metadata": {},
   "outputs": [],
   "source": [
    "l1 = []\n",
    "\n",
    "for i in range(len(results)):\n",
    "    if results[i][0] is not None:\n",
    "        l1.append(results[i][0])\n",
    "    \n"
   ]
  },
  {
   "cell_type": "code",
   "execution_count": 40,
   "id": "cb8b84a6",
   "metadata": {},
   "outputs": [
    {
     "name": "stdout",
     "output_type": "stream",
     "text": [
      "/mnt/c/Users/wmang/Python Stuff/Opensea/Images_New/Images/01f9259187.jpeg\n"
     ]
    },
    {
     "data": {
      "text/plain": [
       "'/mnt/c/Users/wmang/Python Stuff/Opensea/Images_New/Images_New/01f9259187.jpeg'"
      ]
     },
     "execution_count": 40,
     "metadata": {},
     "output_type": "execute_result"
    }
   ],
   "source": [
    "from PIL import Image\n",
    "\n",
    "print(im_path)\n",
    "Image.open(im_path)\n",
    "shutil.move(im_path, new_path)"
   ]
  },
  {
   "cell_type": "code",
   "execution_count": 72,
   "id": "432012e0",
   "metadata": {},
   "outputs": [
    {
     "name": "stdout",
     "output_type": "stream",
     "text": [
      "[]\n"
     ]
    }
   ],
   "source": [
    "nonelist = []\n",
    "for i,m in enumerate(l1):\n",
    "    if m is None:\n",
    "        nonelist.append(i)\n",
    "print(nonelist)"
   ]
  },
  {
   "cell_type": "code",
   "execution_count": 73,
   "id": "49a2f15c",
   "metadata": {},
   "outputs": [],
   "source": [
    "import shutil\n",
    "\n",
    "for i in l1:\n",
    "    im_path = f'/mnt/c/Users/wmang/Python Stuff/Opensea/Images_New/Images/{i}.jpeg'\n",
    "    new_path = f'/mnt/c/Users/wmang/Python Stuff/Opensea/Images_New/Images_New/{i}.jpeg'\n",
    "    shutil.move(im_path, new_path)\n",
    "    "
   ]
  },
  {
   "cell_type": "code",
   "execution_count": 27,
   "id": "2e03ae38",
   "metadata": {
    "scrolled": false
   },
   "outputs": [
    {
     "data": {
      "text/plain": [
       "'01f9259187'"
      ]
     },
     "execution_count": 27,
     "metadata": {},
     "output_type": "execute_result"
    }
   ],
   "source": [
    "l1[1]"
   ]
  }
 ],
 "metadata": {
  "kernelspec": {
   "display_name": "venvvirtualenv",
   "language": "python",
   "name": "venvvirtualenv"
  },
  "language_info": {
   "codemirror_mode": {
    "name": "ipython",
    "version": 3
   },
   "file_extension": ".py",
   "mimetype": "text/x-python",
   "name": "python",
   "nbconvert_exporter": "python",
   "pygments_lexer": "ipython3",
   "version": "3.8.5"
  }
 },
 "nbformat": 4,
 "nbformat_minor": 5
}
